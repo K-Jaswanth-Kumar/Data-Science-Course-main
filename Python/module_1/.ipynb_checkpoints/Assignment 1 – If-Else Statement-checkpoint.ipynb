{
 "cells": [
  {
   "cell_type": "markdown",
   "id": "675f456d",
   "metadata": {},
   "source": [
    " Input the values of a and b as 10 and 20 respectively. Now check if a is greater or b is greater \n",
    "using if condition. Think about all the edge cases, and print the statements accordingly"
   ]
  },
  {
   "cell_type": "code",
   "execution_count": 3,
   "id": "0083fb6c",
   "metadata": {},
   "outputs": [
    {
     "name": "stdout",
     "output_type": "stream",
     "text": [
      "a = 10\n",
      "b = 20\n",
      "b greater than a\n"
     ]
    }
   ],
   "source": [
    "a = int(input('a = '))\n",
    "b = int(input('b = '))\n",
    "if a>b:\n",
    "    print('a greater than b')\n",
    "elif a==b:\n",
    "    print('a equals b')\n",
    "else:\n",
    "    print('b greater than a')"
   ]
  },
  {
   "cell_type": "code",
   "execution_count": null,
   "id": "0795fed2",
   "metadata": {},
   "outputs": [],
   "source": []
  }
 ],
 "metadata": {
  "kernelspec": {
   "display_name": "Python 3",
   "language": "python",
   "name": "python3"
  },
  "language_info": {
   "codemirror_mode": {
    "name": "ipython",
    "version": 3
   },
   "file_extension": ".py",
   "mimetype": "text/x-python",
   "name": "python",
   "nbconvert_exporter": "python",
   "pygments_lexer": "ipython3",
   "version": "3.6.13"
  }
 },
 "nbformat": 4,
 "nbformat_minor": 5
}
