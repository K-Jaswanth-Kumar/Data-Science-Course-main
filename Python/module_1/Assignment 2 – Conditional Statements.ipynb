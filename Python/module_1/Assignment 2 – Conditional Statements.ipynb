{
 "cells": [
  {
   "cell_type": "code",
   "execution_count": 1,
   "id": "32f95323",
   "metadata": {},
   "outputs": [
    {
     "name": "stdout",
     "output_type": "stream",
     "text": [
      "Enter the first number: 1\n",
      "Enter the second number: 2\n",
      "Enter the third number: 3\n",
      "The greatest number is: 3.0\n"
     ]
    }
   ],
   "source": [
    "# Take user inputs\n",
    "a = float(input(\"Enter the first number: \"))\n",
    "b = float(input(\"Enter the second number: \"))\n",
    "c = float(input(\"Enter the third number: \"))\n",
    "\n",
    "# Check for edge cases\n",
    "if a == b == c:\n",
    "    print(\"All numbers are equal.\")\n",
    "elif a == b or a == c or b == c:\n",
    "    print(\"Two or more numbers are equal.\")\n",
    "else:\n",
    "    # Compare the numbers to find the greatest\n",
    "    if a > b and a > c:\n",
    "        print(\"The greatest number is:\", a)\n",
    "    elif b > a and b > c:\n",
    "        print(\"The greatest number is:\", b)\n",
    "    else:\n",
    "        print(\"The greatest number is:\", c)\n"
   ]
  },
  {
   "cell_type": "code",
   "execution_count": null,
   "id": "c6927e6a",
   "metadata": {},
   "outputs": [],
   "source": []
  }
 ],
 "metadata": {
  "kernelspec": {
   "display_name": "Python 3",
   "language": "python",
   "name": "python3"
  },
  "language_info": {
   "codemirror_mode": {
    "name": "ipython",
    "version": 3
   },
   "file_extension": ".py",
   "mimetype": "text/x-python",
   "name": "python",
   "nbconvert_exporter": "python",
   "pygments_lexer": "ipython3",
   "version": "3.6.13"
  }
 },
 "nbformat": 4,
 "nbformat_minor": 5
}
