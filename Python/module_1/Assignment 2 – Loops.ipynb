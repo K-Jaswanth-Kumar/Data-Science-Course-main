{
 "cells": [
  {
   "cell_type": "markdown",
   "id": "3ce339e2",
   "metadata": {},
   "source": [
    "Create a list that is having 10,23,4,26,4,75,24,54 values and with the help of while loop, fetch\n",
    "the even numbers and print the numbers"
   ]
  },
  {
   "cell_type": "code",
   "execution_count": 2,
   "id": "9fabc9f4",
   "metadata": {},
   "outputs": [
    {
     "name": "stdout",
     "output_type": "stream",
     "text": [
      "10\n",
      "4\n",
      "26\n",
      "4\n",
      "24\n",
      "54\n"
     ]
    }
   ],
   "source": [
    "lst = [10, 23, 4, 26, 4, 75, 24, 54]\n",
    "\n",
    "index = 0\n",
    "\n",
    "while index < len(lst):\n",
    "\n",
    "    if lst[index] % 2 == 0:\n",
    "        print(lst[index])\n",
    "    index += 1"
   ]
  },
  {
   "cell_type": "code",
   "execution_count": null,
   "id": "2764aee1",
   "metadata": {},
   "outputs": [],
   "source": []
  }
 ],
 "metadata": {
  "kernelspec": {
   "display_name": "Python 3",
   "language": "python",
   "name": "python3"
  },
  "language_info": {
   "codemirror_mode": {
    "name": "ipython",
    "version": 3
   },
   "file_extension": ".py",
   "mimetype": "text/x-python",
   "name": "python",
   "nbconvert_exporter": "python",
   "pygments_lexer": "ipython3",
   "version": "3.6.13"
  }
 },
 "nbformat": 4,
 "nbformat_minor": 5
}
