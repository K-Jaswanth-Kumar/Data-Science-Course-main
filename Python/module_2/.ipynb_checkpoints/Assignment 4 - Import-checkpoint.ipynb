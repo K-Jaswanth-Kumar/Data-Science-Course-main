{
 "cells": [
  {
   "cell_type": "markdown",
   "id": "60ee3d1a",
   "metadata": {},
   "source": [
    "1. Create a python file named Module."
   ]
  },
  {
   "cell_type": "markdown",
   "id": "c2356338",
   "metadata": {},
   "source": [
    "a. \\\n",
    "Module.py\n",
    "\n",
    "b. \\\n",
    "def addition(num1, num2): \\\n",
    "def subtraction(num1, num2): \\\n",
    "def multiplication(num1, num2): \\\n",
    "def division(num1, num2):\n",
    "\n"
   ]
  },
  {
   "cell_type": "markdown",
   "id": "088b2484",
   "metadata": {},
   "source": [
    "c. \\\n",
    "def addition(num1, num2): \\\n",
    "        return num1 + num2 \\\n",
    "    \\\n",
    "def subtraction(num1, num2):\\\n",
    "    return num1 - num2\\\n",
    "\\\n",
    "def multiplication(num1, num2):\\\n",
    "    return num1 * num2\\\n",
    "\\\n",
    "def division(num1, num2):\\\n",
    "    if num2 == 0:\\\n",
    "        raise ZeroDivisionError(\"Cannot divide by zero\")\\\n",
    "    return num1 / num2"
   ]
  },
  {
   "cell_type": "markdown",
   "id": "c8bf3a1a",
   "metadata": {},
   "source": [
    "2. Open a new python file and import the Module.py file.\n",
    "\n",
    "a. \\\n",
    "Now call the 4 methods from the Module.py file, i.e., addition(), subtraction(), \n",
    "multiplication(), and division()."
   ]
  },
  {
   "cell_type": "code",
   "execution_count": 3,
   "id": "f5d71cbb",
   "metadata": {},
   "outputs": [],
   "source": [
    "import Module\n",
    "from Module import addition, subtraction, multiplication, division"
   ]
  },
  {
   "cell_type": "markdown",
   "id": "95006859",
   "metadata": {},
   "source": [
    "3. From the Module file, import only the addition() and pass the arguments so that it can \n",
    "display the result from the method"
   ]
  },
  {
   "cell_type": "code",
   "execution_count": 5,
   "id": "ddef7f9c",
   "metadata": {},
   "outputs": [
    {
     "data": {
      "text/plain": [
       "9"
      ]
     },
     "execution_count": 5,
     "metadata": {},
     "output_type": "execute_result"
    }
   ],
   "source": [
    "from Module import addition\n",
    "\n",
    "addition(4,5)"
   ]
  },
  {
   "cell_type": "markdown",
   "id": "45a8af99",
   "metadata": {},
   "source": [
    "4. From the Module file, import only the subtraction() and pass the arguments so that it can \n",
    "display the result from the method."
   ]
  },
  {
   "cell_type": "code",
   "execution_count": 6,
   "id": "3d3d7979",
   "metadata": {},
   "outputs": [
    {
     "data": {
      "text/plain": [
       "1"
      ]
     },
     "execution_count": 6,
     "metadata": {},
     "output_type": "execute_result"
    }
   ],
   "source": [
    "from Module import addition\n",
    "\n",
    "subtraction(5,4)"
   ]
  },
  {
   "cell_type": "markdown",
   "id": "18af5fd4",
   "metadata": {},
   "source": [
    "5. From the Module file, import both the multiplication() and division() and pass the arguments \n",
    "so that it can display the result from the methods."
   ]
  },
  {
   "cell_type": "code",
   "execution_count": 8,
   "id": "1f4a4724",
   "metadata": {},
   "outputs": [
    {
     "name": "stdout",
     "output_type": "stream",
     "text": [
      "multiplication 20\n",
      "division 1.25\n"
     ]
    }
   ],
   "source": [
    "from Module import addition\n",
    "\n",
    "print('multiplication', multiplication(5,4))\n",
    "print('division', division(5,4))"
   ]
  },
  {
   "cell_type": "code",
   "execution_count": null,
   "id": "ccef9cfc",
   "metadata": {},
   "outputs": [],
   "source": []
  }
 ],
 "metadata": {
  "kernelspec": {
   "display_name": "Python 3",
   "language": "python",
   "name": "python3"
  },
  "language_info": {
   "codemirror_mode": {
    "name": "ipython",
    "version": 3
   },
   "file_extension": ".py",
   "mimetype": "text/x-python",
   "name": "python",
   "nbconvert_exporter": "python",
   "pygments_lexer": "ipython3",
   "version": "3.6.13"
  }
 },
 "nbformat": 4,
 "nbformat_minor": 5
}
