{
 "cells": [
  {
   "cell_type": "markdown",
   "id": "cf6df3c5",
   "metadata": {},
   "source": [
    "1. With the help of try and inbuilt exception, display the exception."
   ]
  },
  {
   "cell_type": "code",
   "execution_count": 2,
   "id": "faa1cc51",
   "metadata": {},
   "outputs": [
    {
     "name": "stdout",
     "output_type": "stream",
     "text": [
      "Enter a number: 1\n",
      "Enter another number: 0\n",
      "An exception occurred: division by zero\n"
     ]
    }
   ],
   "source": [
    "try:\n",
    "    # Code block that may raise an exception\n",
    "    num1 = int(input(\"Enter a number: \"))\n",
    "    num2 = int(input(\"Enter another number: \"))\n",
    "\n",
    "    result = num1 / num2\n",
    "    print(\"Result:\", result)\n",
    "\n",
    "except Exception as e:\n",
    "    # Exception handling block\n",
    "    print(\"An exception occurred:\", str(e))\n"
   ]
  },
  {
   "cell_type": "markdown",
   "id": "44dde663",
   "metadata": {},
   "source": [
    "2. Take two user inputs and pass those input variables in a try block. If the user input is 0, then \n",
    "throw the ZeroDivisionError exception"
   ]
  },
  {
   "cell_type": "code",
   "execution_count": 4,
   "id": "c6cbfb5b",
   "metadata": {},
   "outputs": [
    {
     "name": "stdout",
     "output_type": "stream",
     "text": [
      "Enter the first number: 1\n",
      "Enter the second number: 0\n",
      "Exception occurred: Division by zero is not allowed.\n"
     ]
    }
   ],
   "source": [
    "try:\n",
    "    # Take user inputs\n",
    "    num1 = int(input(\"Enter the first number: \"))\n",
    "    num2 = int(input(\"Enter the second number: \"))\n",
    "\n",
    "    # Check if any of the inputs is 0\n",
    "    if num1 == 0 or num2 == 0:\n",
    "        raise ZeroDivisionError(\"Division by zero is not allowed.\")\n",
    "\n",
    "    # Perform division\n",
    "    result = num1 / num2\n",
    "    print(\"Result:\", result)\n",
    "\n",
    "except ZeroDivisionError as e:\n",
    "    print(\"Exception occurred:\", str(e))\n",
    "\n",
    "except ValueError as e:\n",
    "    print(\"ValueError occurred:\", str(e))\n"
   ]
  },
  {
   "cell_type": "markdown",
   "id": "4078fd3c",
   "metadata": {},
   "source": [
    "3. Import math package and with the help of math package, print – math.exp(50000). Now use \n",
    "the inbuilt OverflowError exception on the math.exp(), and print the exception"
   ]
  },
  {
   "cell_type": "code",
   "execution_count": 5,
   "id": "e77c42f9",
   "metadata": {},
   "outputs": [
    {
     "name": "stdout",
     "output_type": "stream",
     "text": [
      "Exception occurred: math range error\n"
     ]
    }
   ],
   "source": [
    "import math\n",
    "\n",
    "try:\n",
    "    result = math.exp(50000)\n",
    "    print(\"Result:\", result)\n",
    "\n",
    "except OverflowError as e:\n",
    "    print(\"Exception occurred:\", str(e))\n"
   ]
  },
  {
   "cell_type": "markdown",
   "id": "1278183f",
   "metadata": {},
   "source": [
    "4. Now install the ‘termcolor’ package in the anaconda prompt, and import that package to \n",
    "provide the colors to the print statement in Jupyter Notebook."
   ]
  },
  {
   "cell_type": "code",
   "execution_count": 6,
   "id": "fd134b33",
   "metadata": {},
   "outputs": [
    {
     "name": "stdout",
     "output_type": "stream",
     "text": [
      "Requirement already satisfied: termcolor in c:\\users\\saidh\\anaconda3\\envs\\tensorflow\\lib\\site-packages (1.1.0)\n"
     ]
    }
   ],
   "source": [
    "!pip install termcolor"
   ]
  },
  {
   "cell_type": "code",
   "execution_count": 7,
   "id": "ba627eb8",
   "metadata": {},
   "outputs": [
    {
     "name": "stdout",
     "output_type": "stream",
     "text": [
      "\u001b[31mThis is a colored message\u001b[0m\n",
      "\u001b[32mThis is another colored message\u001b[0m\n"
     ]
    }
   ],
   "source": [
    "from termcolor import colored\n",
    "\n",
    "print(colored('This is a colored message', 'red'))\n",
    "print(colored('This is another colored message', 'green'))"
   ]
  },
  {
   "cell_type": "markdown",
   "id": "15e954f3",
   "metadata": {},
   "source": [
    "5. Create your own exception with the help of class and functions."
   ]
  },
  {
   "cell_type": "code",
   "execution_count": 8,
   "id": "661696b6",
   "metadata": {},
   "outputs": [
    {
     "name": "stdout",
     "output_type": "stream",
     "text": [
      "Valid number: 5\n",
      "CustomException occurred: Number must be non-negative.\n"
     ]
    }
   ],
   "source": [
    "class CustomException(Exception):\n",
    "    def __init__(self, message):\n",
    "        self.message = message\n",
    "\n",
    "    def __str__(self):\n",
    "        return self.message\n",
    "\n",
    "\n",
    "def function_with_custom_exception(num):\n",
    "    if num < 0:\n",
    "        raise CustomException(\"Number must be non-negative.\")\n",
    "    else:\n",
    "        print(\"Valid number:\", num)\n",
    "\n",
    "try:\n",
    "    function_with_custom_exception(5)\n",
    "    function_with_custom_exception(-2)\n",
    "\n",
    "except CustomException as e:\n",
    "    print(\"CustomException occurred:\", str(e))\n"
   ]
  },
  {
   "cell_type": "code",
   "execution_count": null,
   "id": "7c911721",
   "metadata": {},
   "outputs": [],
   "source": []
  }
 ],
 "metadata": {
  "kernelspec": {
   "display_name": "Python 3",
   "language": "python",
   "name": "python3"
  },
  "language_info": {
   "codemirror_mode": {
    "name": "ipython",
    "version": 3
   },
   "file_extension": ".py",
   "mimetype": "text/x-python",
   "name": "python",
   "nbconvert_exporter": "python",
   "pygments_lexer": "ipython3",
   "version": "3.6.13"
  }
 },
 "nbformat": 4,
 "nbformat_minor": 5
}
