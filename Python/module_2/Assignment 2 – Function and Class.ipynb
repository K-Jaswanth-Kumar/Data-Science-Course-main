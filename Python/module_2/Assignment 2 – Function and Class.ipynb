{
 "cells": [
  {
   "cell_type": "markdown",
   "id": "abf8f2cd",
   "metadata": {},
   "source": [
    "1. Create a function named ‘factor’ that can only accepts 1 argument. The function should \n",
    "return the factorial of that number."
   ]
  },
  {
   "cell_type": "code",
   "execution_count": 1,
   "id": "1195a49b",
   "metadata": {},
   "outputs": [
    {
     "name": "stdout",
     "output_type": "stream",
     "text": [
      "Enter a number: 5\n",
      "Factorial of 5 is: 120\n"
     ]
    }
   ],
   "source": [
    "def factor(n):\n",
    "    if n < 0:\n",
    "        raise ValueError(\"Factorial is not defined for negative numbers.\")\n",
    "    elif n == 0:\n",
    "        return 1\n",
    "    else:\n",
    "        result = 1\n",
    "        for i in range(1, n + 1):\n",
    "            result *= i\n",
    "        return result\n",
    "\n",
    "# Example usage\n",
    "number = int(input(\"Enter a number: \"))\n",
    "try:\n",
    "    factorial = factor(number)\n",
    "    print(\"Factorial of\", number, \"is:\", factorial)\n",
    "\n",
    "except ValueError as e:\n",
    "    print(\"Error:\", str(e))\n"
   ]
  },
  {
   "cell_type": "markdown",
   "id": "0c89fce3",
   "metadata": {},
   "source": [
    "2. Create a function named ‘check_string’, the function should accept a string data from the \n",
    "user and the function should check if the user input contains the letter ‘s’ in it. If it contains \n",
    "the letter ‘s’ then print- ‘The string is containing the letter ‘s’’, if not then print- ‘The string \n",
    "doesn’t contain the letter ‘s’’."
   ]
  },
  {
   "cell_type": "code",
   "execution_count": 5,
   "id": "4e5bba7d",
   "metadata": {},
   "outputs": [
    {
     "name": "stdout",
     "output_type": "stream",
     "text": [
      "Enter a string: Sai Dheeraj\n",
      "The string is containing the letter 's'\n"
     ]
    }
   ],
   "source": [
    "def check_string(user_input):\n",
    "    if 's' in user_input.lower():\n",
    "        print(\"The string is containing the letter 's'\")\n",
    "    else:\n",
    "        print(\"The string doesn't contain the letter 's'\")\n",
    "\n",
    "# Example usage\n",
    "string = input(\"Enter a string: \")\n",
    "check_string(string)"
   ]
  },
  {
   "cell_type": "markdown",
   "id": "33e9adfb",
   "metadata": {},
   "source": [
    "3. Create a class named ‘student’ and inside the class, create a function named ‘fun1’- this \n",
    "method should accepts the user defined input and return that value"
   ]
  },
  {
   "cell_type": "code",
   "execution_count": 7,
   "id": "c18d214d",
   "metadata": {},
   "outputs": [
    {
     "name": "stdout",
     "output_type": "stream",
     "text": [
      "Enter a value: 15\n",
      "User input: 15\n"
     ]
    }
   ],
   "source": [
    "class Student:\n",
    "    def fun1(self):\n",
    "        user_input = int(input(\"Enter a value: \"))\n",
    "        return user_input\n",
    "\n",
    "# Create an instance of the Student class\n",
    "student = Student()\n",
    "\n",
    "# Call the fun1 method\n",
    "result = student.fun1()\n",
    "\n",
    "# Print the result\n",
    "print(\"User input:\", result)\n"
   ]
  },
  {
   "cell_type": "markdown",
   "id": "5c8234a9",
   "metadata": {},
   "source": [
    "3. \n",
    "a. Create another method named- message() and that method should print the user \n",
    "defined input that we have defined in ‘fun1’"
   ]
  },
  {
   "cell_type": "code",
   "execution_count": 8,
   "id": "b4bf6023",
   "metadata": {},
   "outputs": [
    {
     "name": "stdout",
     "output_type": "stream",
     "text": [
      "Enter a value: 15\n",
      "User input: 15\n"
     ]
    }
   ],
   "source": [
    "class Student:\n",
    "    def fun1(self):\n",
    "        user_input = int(input(\"Enter a value: \"))\n",
    "        return user_input\n",
    "\n",
    "    def message(self):\n",
    "        value = self.fun1()\n",
    "        print(\"User input:\", value)\n",
    "\n",
    "# Create an instance of the Student class\n",
    "student = Student()\n",
    "\n",
    "# Call the message method\n",
    "student.message()"
   ]
  },
  {
   "cell_type": "markdown",
   "id": "29d06c91",
   "metadata": {},
   "source": [
    "4. Create a lambda function that should double or multiply the number (that we will be passing \n",
    "in the lambda function) by 2. Store the lambda function in a variable named ‘double_num’."
   ]
  },
  {
   "cell_type": "code",
   "execution_count": 9,
   "id": "a0fbc3c3",
   "metadata": {},
   "outputs": [
    {
     "name": "stdout",
     "output_type": "stream",
     "text": [
      "Enter a number: 15\n",
      "Result: 30\n"
     ]
    }
   ],
   "source": [
    "double_num = lambda x: x * 2\n",
    "\n",
    "# Example usage\n",
    "number = int(input(\"Enter a number: \"))\n",
    "\n",
    "result = double_num(number)\n",
    "print(\"Result:\", result)"
   ]
  },
  {
   "cell_type": "markdown",
   "id": "56c0c198",
   "metadata": {},
   "source": [
    "5. Take user input string and check whether that string is palindrome or not."
   ]
  },
  {
   "cell_type": "code",
   "execution_count": 10,
   "id": "a52384f4",
   "metadata": {},
   "outputs": [
    {
     "name": "stdout",
     "output_type": "stream",
     "text": [
      "Enter a string: Dheeraj\n",
      "The string is not a palindrome.\n"
     ]
    }
   ],
   "source": [
    "def is_palindrome(input_string):\n",
    "    # Remove whitespace and convert to lowercase\n",
    "    input_string = input_string.replace(\" \", \"\").lower()\n",
    "    # Reverse the string\n",
    "    reversed_string = input_string[::-1]\n",
    "    # Check if the original and reversed strings are equal\n",
    "    if input_string == reversed_string:\n",
    "        return True\n",
    "    else:\n",
    "        return False\n",
    "\n",
    "# Example usage\n",
    "string = input(\"Enter a string: \")\n",
    "\n",
    "if is_palindrome(string):\n",
    "    print(\"The string is a palindrome.\")\n",
    "else:\n",
    "    print(\"The string is not a palindrome.\")\n"
   ]
  },
  {
   "cell_type": "code",
   "execution_count": null,
   "id": "f3eb2ca1",
   "metadata": {},
   "outputs": [],
   "source": []
  }
 ],
 "metadata": {
  "kernelspec": {
   "display_name": "Python 3",
   "language": "python",
   "name": "python3"
  },
  "language_info": {
   "codemirror_mode": {
    "name": "ipython",
    "version": 3
   },
   "file_extension": ".py",
   "mimetype": "text/x-python",
   "name": "python",
   "nbconvert_exporter": "python",
   "pygments_lexer": "ipython3",
   "version": "3.6.13"
  }
 },
 "nbformat": 4,
 "nbformat_minor": 5
}
