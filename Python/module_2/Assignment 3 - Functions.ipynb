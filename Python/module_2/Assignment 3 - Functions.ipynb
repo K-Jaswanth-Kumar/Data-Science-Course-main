{
 "cells": [
  {
   "cell_type": "markdown",
   "id": "97e09bf7",
   "metadata": {},
   "source": [
    "1. Create a class named ‘Super’ and inside that class define a user-defined function named \n",
    "fun1."
   ]
  },
  {
   "cell_type": "code",
   "execution_count": 2,
   "id": "52e12807",
   "metadata": {},
   "outputs": [
    {
     "name": "stdout",
     "output_type": "stream",
     "text": [
      "Inside fun1\n"
     ]
    }
   ],
   "source": [
    "class Super:\n",
    "    def fun1(self):\n",
    "        # Function implementation\n",
    "        print(\"Inside fun1\")\n",
    "\n",
    "# Create an instance of the Super class\n",
    "obj = Super()\n",
    "\n",
    "# Call the fun1 method\n",
    "obj.fun1()\n"
   ]
  },
  {
   "cell_type": "markdown",
   "id": "a7d31507",
   "metadata": {},
   "source": [
    "a. Inside the ‘fun1’ function, pass the message “This is function 1 in the Super class.” \n",
    "in the print statement."
   ]
  },
  {
   "cell_type": "code",
   "execution_count": 3,
   "id": "d9df967b",
   "metadata": {},
   "outputs": [
    {
     "name": "stdout",
     "output_type": "stream",
     "text": [
      "This is function 1 in the Super class.\n"
     ]
    }
   ],
   "source": [
    "class Super:\n",
    "    def fun1(self):\n",
    "        # Function implementation\n",
    "        print(\"This is function 1 in the Super class.\")\n",
    "\n",
    "# Create an instance of the Super class\n",
    "obj = Super()\n",
    "\n",
    "# Call the fun1 method\n",
    "obj.fun1()\n"
   ]
  },
  {
   "cell_type": "markdown",
   "id": "0b97f0ff",
   "metadata": {},
   "source": [
    "2. Create another classed named ‘Modified_Super’ and inherit this class from the Super class."
   ]
  },
  {
   "cell_type": "code",
   "execution_count": 4,
   "id": "69c01375",
   "metadata": {},
   "outputs": [
    {
     "name": "stdout",
     "output_type": "stream",
     "text": [
      "This is function 1 in the Super class.\n"
     ]
    }
   ],
   "source": [
    "class Super:\n",
    "    def fun1(self):\n",
    "        print(\"This is function 1 in the Super class.\")\n",
    "\n",
    "class Modified_Super(Super):\n",
    "    pass\n",
    "\n",
    "# Create an instance of the Modified_Super class\n",
    "obj = Modified_Super()\n",
    "\n",
    "# Call the fun1 method inherited from the Super class\n",
    "obj.fun1()\n"
   ]
  },
  {
   "cell_type": "markdown",
   "id": "3c599191",
   "metadata": {},
   "source": [
    "a. Inside the Modified_Super class, create a function named ‘fun1’ and pass the \n",
    "following message inside the print statement: ‘This is function 1 in the Modified \n",
    "Super class.’"
   ]
  },
  {
   "cell_type": "code",
   "execution_count": 6,
   "id": "1b38a2a0",
   "metadata": {},
   "outputs": [
    {
     "name": "stdout",
     "output_type": "stream",
     "text": [
      "This is function 1 in the Modified Super class.\n"
     ]
    }
   ],
   "source": [
    "class Super:\n",
    "    def fun1(self):\n",
    "        print(\"This is function 1 in the Super class.\")\n",
    "\n",
    "class Modified_Super(Super):\n",
    "    def fun1(self):\n",
    "        print(\"This is function 1 in the Modified Super class.\")\n",
    "\n",
    "# Create an instance of the Modified_Super class\n",
    "obj = Modified_Super()\n",
    "\n",
    "# Call the fun1 method from the Modified_Super class\n",
    "obj.fun1()"
   ]
  },
  {
   "cell_type": "markdown",
   "id": "24653fd3",
   "metadata": {},
   "source": [
    "b. Create another user-defined function named ‘fun2’ and pass the message: ‘This is \n",
    "the 2 nd function from the Modified Super class’ in the print statement."
   ]
  },
  {
   "cell_type": "code",
   "execution_count": 8,
   "id": "f295fcc4",
   "metadata": {},
   "outputs": [
    {
     "name": "stdout",
     "output_type": "stream",
     "text": [
      "This is the 2nd function from the Modified Super class.\n"
     ]
    }
   ],
   "source": [
    "class Super:\n",
    "    def fun1(self):\n",
    "        print(\"This is function 1 in the Super class.\")\n",
    "\n",
    "class Modified_Super(Super):\n",
    "    def fun1(self):\n",
    "        print(\"This is function 1 in the Modified Super class.\")\n",
    "    \n",
    "    def fun2(self):\n",
    "        print(\"This is the 2nd function from the Modified Super class.\")\n",
    "\n",
    "# Create an instance of the Modified_Super class\n",
    "obj = Modified_Super()\n",
    "\n",
    "# Call the fun1 method from the Modified_Super class\n",
    "obj.fun2()\n",
    "\n",
    "# Call the fun2 method from the Modified_Super class\n"
   ]
  },
  {
   "cell_type": "markdown",
   "id": "37da60a8",
   "metadata": {},
   "source": [
    "c. After that, now create an object for the Modified_Super class and call the fun1()."
   ]
  },
  {
   "cell_type": "code",
   "execution_count": 9,
   "id": "bfff87c2",
   "metadata": {},
   "outputs": [
    {
     "name": "stdout",
     "output_type": "stream",
     "text": [
      "This is function 1 in the Modified Super class.\n"
     ]
    }
   ],
   "source": [
    "class Super:\n",
    "    def fun1(self):\n",
    "        print(\"This is function 1 in the Super class.\")\n",
    "\n",
    "class Modified_Super(Super):\n",
    "    def fun1(self):\n",
    "        print(\"This is function 1 in the Modified Super class.\")\n",
    "    \n",
    "    def fun2(self):\n",
    "        print(\"This is the 2nd function from the Modified Super class.\")\n",
    "\n",
    "# Create an instance of the Modified_Super class\n",
    "obj = Modified_Super()\n",
    "\n",
    "# Call the fun1 method from the Modified_Super class\n",
    "obj.fun1()\n"
   ]
  },
  {
   "cell_type": "markdown",
   "id": "a51b159a",
   "metadata": {},
   "source": [
    "3. Create 2 methods named ‘Hello’. In the 1st Hello method, pass only one argument and pass \n",
    "this message: ‘This function is only having 1 argument’. And in the 2nd Hello method, pass \n",
    "two arguments and pass this message: ‘This function is having 2 arguments’."
   ]
  },
  {
   "cell_type": "code",
   "execution_count": 13,
   "id": "2f8bec91",
   "metadata": {},
   "outputs": [],
   "source": [
    "class MyClass:\n",
    "    def Hello_1(self, arg1):\n",
    "        print(\"This function is only having 1 argument.\")\n",
    "    \n",
    "    def Hello_2(self, arg1, arg2):\n",
    "        print(\"This function is having 2 arguments.\")\n"
   ]
  },
  {
   "cell_type": "markdown",
   "id": "8bb60d80",
   "metadata": {},
   "source": [
    "a. Try to call both the methods and analyze the output of both the methods."
   ]
  },
  {
   "cell_type": "code",
   "execution_count": 14,
   "id": "330c7518",
   "metadata": {},
   "outputs": [
    {
     "name": "stdout",
     "output_type": "stream",
     "text": [
      "This function is only having 1 argument.\n",
      "This function is having 2 arguments.\n"
     ]
    }
   ],
   "source": [
    "# Create an instance of MyClass\n",
    "obj = MyClass()\n",
    "\n",
    "# Call the Hello method with one argument\n",
    "obj.Hello_1(\"Argument 1\")\n",
    "\n",
    "# Call the Hello method with two arguments\n",
    "obj.Hello_2(\"Argument 1\", \"Argument 2\")"
   ]
  },
  {
   "cell_type": "markdown",
   "id": "802332e2",
   "metadata": {},
   "source": [
    "4. Create a method named ‘Sum’ that can accept multiple user inputs. Now add those user\u0002defined input values using for loop and the function should return the addition of the \n",
    "numbers."
   ]
  },
  {
   "cell_type": "code",
   "execution_count": 15,
   "id": "5b8eb384",
   "metadata": {},
   "outputs": [
    {
     "name": "stdout",
     "output_type": "stream",
     "text": [
      "Sum: 100\n"
     ]
    }
   ],
   "source": [
    "class MyClass:\n",
    "    def Sum(self, *args):\n",
    "        total = 0\n",
    "        for num in args:\n",
    "            total += num\n",
    "        return total\n",
    "\n",
    "# Create an instance of MyClass\n",
    "obj = MyClass()\n",
    "\n",
    "# Call the Sum method with multiple user inputs\n",
    "result = obj.Sum(10, 20, 30, 40)\n",
    "print(\"Sum:\", result)\n"
   ]
  },
  {
   "cell_type": "markdown",
   "id": "2d466fab",
   "metadata": {},
   "source": [
    "5. Create a class named ‘Encapsulation’:"
   ]
  },
  {
   "cell_type": "markdown",
   "id": "62ca2cc8",
   "metadata": {},
   "source": [
    "a. Inside the class, first create a constructor. Inside the constructor, initialize \n",
    "originalValue variable as 10."
   ]
  },
  {
   "cell_type": "code",
   "execution_count": 17,
   "id": "525d405c",
   "metadata": {},
   "outputs": [],
   "source": [
    "class Encapsulation:\n",
    "    def __init__(self):\n",
    "        self.originalValue = 10"
   ]
  },
  {
   "cell_type": "markdown",
   "id": "aaeb70af",
   "metadata": {},
   "source": [
    "b. After creating the constructor, define a function named ‘Value’ and this function \n",
    "should return the variable that we have initialized in the constructor."
   ]
  },
  {
   "cell_type": "code",
   "execution_count": 18,
   "id": "6cbef161",
   "metadata": {},
   "outputs": [],
   "source": [
    "class Encapsulation:\n",
    "    def __init__(self):\n",
    "        self.originalValue = 10\n",
    "    \n",
    "    def value(self):\n",
    "        return self.originalValue"
   ]
  },
  {
   "cell_type": "markdown",
   "id": "ebd54015",
   "metadata": {},
   "source": [
    "c. Now create 2nd function named setValue, and pass an argument named \n",
    "‘newValue’. The task of this function will be to replace the value of the \n",
    "originalValue variable by the value of newValue variable."
   ]
  },
  {
   "cell_type": "code",
   "execution_count": 24,
   "id": "ac6d5c76",
   "metadata": {},
   "outputs": [
    {
     "name": "stdout",
     "output_type": "stream",
     "text": [
      "Original Value: 10\n",
      "Updated Value: 20\n"
     ]
    }
   ],
   "source": [
    "class Encapsulation:\n",
    "    def __init__(self):\n",
    "        self.originalValue = 10\n",
    "    \n",
    "    def Value(self):\n",
    "        return self.originalValue\n",
    "    \n",
    "    def setValue(self, newValue):\n",
    "        self.originalValue = newValue\n",
    "\n",
    "obj = Encapsulation()\n",
    "\n",
    "print(\"Original Value:\", obj.Value())\n",
    "\n",
    "obj.setValue(20)\n",
    "\n",
    "print(\"Updated Value:\", obj.Value())"
   ]
  },
  {
   "cell_type": "code",
   "execution_count": null,
   "id": "163aec14",
   "metadata": {},
   "outputs": [],
   "source": []
  }
 ],
 "metadata": {
  "kernelspec": {
   "display_name": "Python 3",
   "language": "python",
   "name": "python3"
  },
  "language_info": {
   "codemirror_mode": {
    "name": "ipython",
    "version": 3
   },
   "file_extension": ".py",
   "mimetype": "text/x-python",
   "name": "python",
   "nbconvert_exporter": "python",
   "pygments_lexer": "ipython3",
   "version": "3.6.13"
  }
 },
 "nbformat": 4,
 "nbformat_minor": 5
}
