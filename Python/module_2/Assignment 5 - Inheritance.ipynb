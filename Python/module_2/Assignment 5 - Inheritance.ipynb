{
 "cells": [
  {
   "cell_type": "markdown",
   "id": "9a382cd5",
   "metadata": {},
   "source": [
    "1. Create a class named parent_Class and inside the class, initialize a global variable num as 10."
   ]
  },
  {
   "cell_type": "code",
   "execution_count": 1,
   "id": "d6f8444d",
   "metadata": {},
   "outputs": [
    {
     "name": "stdout",
     "output_type": "stream",
     "text": [
      "Global Variable: 10\n"
     ]
    }
   ],
   "source": [
    "class Parent_Class:\n",
    "    num = 10\n",
    "\n",
    "print(\"Global Variable:\", Parent_Class.num)\n"
   ]
  },
  {
   "cell_type": "markdown",
   "id": "b0a84a63",
   "metadata": {},
   "source": [
    "a. Create another class named child_Class and this class should be inherited from the \n",
    "parent class."
   ]
  },
  {
   "cell_type": "code",
   "execution_count": 2,
   "id": "7904d701",
   "metadata": {},
   "outputs": [
    {
     "name": "stdout",
     "output_type": "stream",
     "text": [
      "Global Variable from Child Class: 10\n"
     ]
    }
   ],
   "source": [
    "class Parent_Class:\n",
    "    num = 10\n",
    "\n",
    "class Child_Class(Parent_Class):\n",
    "    pass\n",
    "\n",
    "# Accessing the global variable from the child class\n",
    "print(\"Global Variable from Child Class:\", Child_Class.num)"
   ]
  },
  {
   "cell_type": "markdown",
   "id": "5d207e27",
   "metadata": {},
   "source": [
    "b. Now create an object for the child_Class and with the help of child_Class object, display \n",
    "the value of ‘num’."
   ]
  },
  {
   "cell_type": "code",
   "execution_count": 4,
   "id": "f9c100b4",
   "metadata": {},
   "outputs": [
    {
     "name": "stdout",
     "output_type": "stream",
     "text": [
      "Global Variable from Child Class: 10\n"
     ]
    }
   ],
   "source": [
    "class Parent_Class:\n",
    "    num = 10\n",
    "\n",
    "class Child_Class(Parent_Class):\n",
    "    pass\n",
    "\n",
    "# Accessing the global variable from the child class\n",
    "print(\"Global Variable from Child Class:\", Child_Class.num)"
   ]
  },
  {
   "cell_type": "markdown",
   "id": "110e617f",
   "metadata": {},
   "source": [
    "2. Create three class named A, B, and C."
   ]
  },
  {
   "cell_type": "code",
   "execution_count": 5,
   "id": "fd7d28b2",
   "metadata": {},
   "outputs": [],
   "source": [
    "class A:\n",
    "    pass\n",
    "\n",
    "class B:\n",
    "    pass\n",
    "\n",
    "class C:\n",
    "    pass\n"
   ]
  },
  {
   "cell_type": "markdown",
   "id": "20dc7a07",
   "metadata": {},
   "source": [
    "a. Inside the A class, create a constructor. Inside the constructor, initilize 2 global variables\u0002name and age."
   ]
  },
  {
   "cell_type": "code",
   "execution_count": 10,
   "id": "a70430e3",
   "metadata": {},
   "outputs": [
    {
     "name": "stdout",
     "output_type": "stream",
     "text": [
      "Name: Sai Dheeraj\n",
      "Age: 23\n"
     ]
    }
   ],
   "source": [
    "class A:\n",
    "    def __init__(self):\n",
    "        self.name = \"Sai Dheeraj\"\n",
    "        self.age = 23\n",
    "        \n",
    "class B:\n",
    "    pass\n",
    "\n",
    "class C:\n",
    "    pass\n",
    "\n",
    "# Create an instance of class A\n",
    "obj = A()\n",
    "\n",
    "# Access the global variables\n",
    "print(\"Name:\", obj.name)\n",
    "print(\"Age:\", obj.age)\n"
   ]
  },
  {
   "cell_type": "markdown",
   "id": "57c1d712",
   "metadata": {},
   "source": [
    "b. After initializing the global variables inside the constructor, now create a funtion named \n",
    "‘details’ and that function should return the ‘name’ variable."
   ]
  },
  {
   "cell_type": "code",
   "execution_count": 11,
   "id": "0220e5f8",
   "metadata": {},
   "outputs": [
    {
     "name": "stdout",
     "output_type": "stream",
     "text": [
      "Name: sai Dheeraj\n"
     ]
    }
   ],
   "source": [
    "class A:\n",
    "    def __init__(self):\n",
    "        self.name = \"sai Dheeraj\"\n",
    "        self.age = 23\n",
    "    \n",
    "    def details(self):\n",
    "        return self.name\n",
    "    \n",
    "class B:\n",
    "    pass\n",
    "\n",
    "class C:\n",
    "    pass\n",
    "\n",
    "# Create an instance of class A\n",
    "obj = A()\n",
    "\n",
    "# Call the 'details' method to get the value of 'name'\n",
    "name = obj.details()\n",
    "\n",
    "# Print the name\n",
    "print(\"Name:\", name)\n"
   ]
  },
  {
   "cell_type": "markdown",
   "id": "ac15725f",
   "metadata": {},
   "source": [
    "c. Inside the B class, create a constructor. Inside the contructor, initialize 2 global veriables\u0002name and id."
   ]
  },
  {
   "cell_type": "code",
   "execution_count": 12,
   "id": "180a09af",
   "metadata": {},
   "outputs": [],
   "source": [
    "class A:\n",
    "    def __init__(self):\n",
    "        self.name = \"sai Dheeraj\"\n",
    "        self.age = 23\n",
    "    \n",
    "    def details(self):\n",
    "        return self.name\n",
    "    \n",
    "class B:\n",
    "    def __init__(self):\n",
    "        self.name = \"Sai Dheeraj\"\n",
    "        self.id = 5722\n",
    "\n",
    "class C:\n",
    "    pass"
   ]
  },
  {
   "cell_type": "markdown",
   "id": "6974ae73",
   "metadata": {},
   "source": [
    "d. After initializing the global variables inside the constructor, now create a funtion named \n",
    "‘details’ and that function should return the ‘name’ variable."
   ]
  },
  {
   "cell_type": "code",
   "execution_count": 13,
   "id": "ca036c2f",
   "metadata": {},
   "outputs": [],
   "source": [
    "class B:\n",
    "    def __init__(self):\n",
    "        self.name = \"Sai Dheeraj\"\n",
    "        self.id = 5722\n",
    "    \n",
    "    def details(self):\n",
    "        return self.name"
   ]
  },
  {
   "cell_type": "markdown",
   "id": "1858ad30",
   "metadata": {},
   "source": [
    "e. The C class should inherit from class A, and B. Inside the class C, create a constructor, \n",
    "and inside the constructor, call the contructor of class A."
   ]
  },
  {
   "cell_type": "code",
   "execution_count": 14,
   "id": "1c76f1cd",
   "metadata": {},
   "outputs": [],
   "source": [
    "class A:\n",
    "    def __init__(self):\n",
    "        self.name = \"sai Dheeraj\"\n",
    "        self.age = 23\n",
    "    \n",
    "    def details(self):\n",
    "        return self.name\n",
    "    \n",
    "class B:\n",
    "    def __init__(self):\n",
    "        self.name = \"Sai Dheeraj\"\n",
    "        self.id = 5722\n",
    "\n",
    "class C(A, B):\n",
    "    def __init__(self):\n",
    "        super().__init__()"
   ]
  },
  {
   "cell_type": "markdown",
   "id": "4b9328fa",
   "metadata": {},
   "source": [
    "f. Now, create a method inside the class C, as get_details, and this fucntion should return \n",
    "the vaue of name."
   ]
  },
  {
   "cell_type": "code",
   "execution_count": 17,
   "id": "df6f0b63",
   "metadata": {},
   "outputs": [],
   "source": [
    "class A:\n",
    "    def __init__(self):\n",
    "        self.name = \"Sai Dheeraj\"\n",
    "        self.age = 23\n",
    "    \n",
    "    def details(self):\n",
    "        return self.name\n",
    "\n",
    "class B:\n",
    "    def __init__(self):\n",
    "        self.name = \"Sai Dheeraj\"\n",
    "        self.id = 5722\n",
    "    \n",
    "    def details(self):\n",
    "        return self.name\n",
    "\n",
    "class C(A, B):\n",
    "    def __init__(self):\n",
    "        super().__init__()\n",
    "\n",
    "    def get_details(self):\n",
    "        return self.name\n"
   ]
  },
  {
   "cell_type": "markdown",
   "id": "5e81772b",
   "metadata": {},
   "source": [
    "g. Atlast, create an object of class C, and with the help of the object, call the get_details()."
   ]
  },
  {
   "cell_type": "code",
   "execution_count": 18,
   "id": "cd9c04df",
   "metadata": {},
   "outputs": [
    {
     "name": "stdout",
     "output_type": "stream",
     "text": [
      "Name: Sai Dheeraj\n"
     ]
    }
   ],
   "source": [
    "# Create an instance of class C\n",
    "obj = C()\n",
    "\n",
    "# Call the 'get_details' method to get the value of 'name'\n",
    "name = obj.get_details()\n",
    "\n",
    "# Print the name\n",
    "print(\"Name:\", name)"
   ]
  },
  {
   "cell_type": "markdown",
   "id": "e964c34c",
   "metadata": {},
   "source": [
    "3. Create a class named ‘Sub1’, inside the class, generate a user defined function named ‘first’ \n",
    "and inside the function, pass the following statement in the print()- ‘This is the first function \n",
    "from Sub 1 class’."
   ]
  },
  {
   "cell_type": "code",
   "execution_count": 19,
   "id": "dbe9e875",
   "metadata": {},
   "outputs": [],
   "source": [
    "class Sub1:\n",
    "    def first(self):\n",
    "        print(\"This is the first function from Sub1 class.\")"
   ]
  },
  {
   "cell_type": "markdown",
   "id": "648adc2d",
   "metadata": {},
   "source": [
    "a. Now create another class named ‘Sub2’, and inside the class, create a function \n",
    "named ‘second’, and pass the following message in the print()- ‘This is the \n",
    "second function from the Sub 2 class’."
   ]
  },
  {
   "cell_type": "code",
   "execution_count": 20,
   "id": "2ecfeae9",
   "metadata": {},
   "outputs": [],
   "source": [
    "class Sub1:\n",
    "    def first(self):\n",
    "        print(\"This is the first function from Sub1 class.\")\n",
    "        \n",
    "class Sub2:\n",
    "    def second(self):\n",
    "        print(\"This is the second function from the Sub2 class.\")"
   ]
  },
  {
   "cell_type": "markdown",
   "id": "00034f3e",
   "metadata": {},
   "source": [
    "b. After that, create another class named ‘Super’ and inside that class, create a \n",
    "method named ‘final’, and pass the below message in the print()- ‘This is the \n",
    "final method from the super class’."
   ]
  },
  {
   "cell_type": "code",
   "execution_count": 21,
   "id": "287201e7",
   "metadata": {},
   "outputs": [],
   "source": [
    "class Super:\n",
    "    def final(self):\n",
    "        print(\"This is the final method from the super class.\")"
   ]
  },
  {
   "cell_type": "markdown",
   "id": "42976248",
   "metadata": {},
   "source": [
    "c. Now, create an object for the Super class and call all the 3 user defined \n",
    "methods, i.e., first(), second(), and final()."
   ]
  },
  {
   "cell_type": "code",
   "execution_count": 23,
   "id": "8308636f",
   "metadata": {},
   "outputs": [
    {
     "name": "stdout",
     "output_type": "stream",
     "text": [
      "This is the first function from Sub1 class.\n",
      "This is the second function from the Sub2 class.\n",
      "This is the final method from the super class.\n"
     ]
    }
   ],
   "source": [
    "class Sub1:\n",
    "    def first(self):\n",
    "        print(\"This is the first function from Sub1 class.\")\n",
    "        \n",
    "class Sub2:\n",
    "    def second(self):\n",
    "        print(\"This is the second function from the Sub2 class.\")\n",
    "        \n",
    "class Super(Sub1, Sub2):\n",
    "    def final(self):\n",
    "        print(\"This is the final method from the super class.\")\n",
    "        \n",
    "obj_super = Super()\n",
    "\n",
    "# Call the methods\n",
    "obj_super.first()\n",
    "obj_super.second()\n",
    "obj_super.final()"
   ]
  },
  {
   "cell_type": "markdown",
   "id": "f752b9c6",
   "metadata": {},
   "source": [
    "4. Create a class named ‘Parent’, and inside the class, create a function named ‘fun1’ and pass \n",
    "the following message in the print()- ‘This is the message from the fun1’."
   ]
  },
  {
   "cell_type": "code",
   "execution_count": 24,
   "id": "20d1b237",
   "metadata": {},
   "outputs": [],
   "source": [
    "class Parent:\n",
    "    def fun1(self):\n",
    "        print(\"This is the message from the fun1.\")"
   ]
  },
  {
   "cell_type": "markdown",
   "id": "51341ef7",
   "metadata": {},
   "source": [
    "a. Now create a class named ‘Child1’ and inside the class, create a method named ‘fun2’ \n",
    "and pass the following message in the print()- ‘This is the message from the fun2’."
   ]
  },
  {
   "cell_type": "code",
   "execution_count": 25,
   "id": "d9d3785e",
   "metadata": {},
   "outputs": [],
   "source": [
    "class Child1:\n",
    "    def fun2(self):\n",
    "        print(\"This is the message from the fun2.\")"
   ]
  },
  {
   "cell_type": "markdown",
   "id": "58c2baee",
   "metadata": {},
   "source": [
    "b. After that, create another class named ‘Child2’ and inside the class, create a method \n",
    "named ‘fun3’ and pass the following message in the print()- ‘This is the message from \n",
    "the fun3’."
   ]
  },
  {
   "cell_type": "code",
   "execution_count": 26,
   "id": "3cdc2d5f",
   "metadata": {},
   "outputs": [],
   "source": [
    "class Child2:\n",
    "    def fun3(self):\n",
    "        print(\"This is the message from the fun3.\")"
   ]
  },
  {
   "cell_type": "markdown",
   "id": "6ccfb4f9",
   "metadata": {},
   "source": [
    "c. Now, create an object of Child2 class and with the help of the object, call the ‘fun1’ \n",
    "method from the ‘Parent’ class"
   ]
  },
  {
   "cell_type": "code",
   "execution_count": 27,
   "id": "ed4d4a68",
   "metadata": {},
   "outputs": [
    {
     "name": "stdout",
     "output_type": "stream",
     "text": [
      "This is the message from the fun1.\n"
     ]
    }
   ],
   "source": [
    "class Parent:\n",
    "    def fun1(self):\n",
    "        print(\"This is the message from the fun1.\")\n",
    "\n",
    "class Child1:\n",
    "    def fun2(self):\n",
    "        print(\"This is the message from the fun2.\")\n",
    "\n",
    "class Child2(Parent):\n",
    "    def fun3(self):\n",
    "        print(\"This is the message from the fun3.\")\n",
    "\n",
    "# Create an instance of Child2\n",
    "obj = Child2()\n",
    "\n",
    "# Call the 'fun1' method from Parent class\n",
    "obj.fun1()"
   ]
  },
  {
   "cell_type": "markdown",
   "id": "f8d633f6",
   "metadata": {},
   "source": [
    "5.  Create a class named ‘Parent’, and inside the class, create a function named ‘fun1’ and pass \n",
    "the following message in the print()- ‘This is the message from the fun1’."
   ]
  },
  {
   "cell_type": "code",
   "execution_count": 28,
   "id": "5ec6dc7d",
   "metadata": {},
   "outputs": [],
   "source": [
    "class Parent:\n",
    "    def fun1(self):\n",
    "        print(\"This is the message from the fun1.\")"
   ]
  },
  {
   "cell_type": "markdown",
   "id": "bf4cba8c",
   "metadata": {},
   "source": [
    "a. Now create a class named ‘Child’ and inside the class, create a method named ‘fun2’ and \n",
    "pass the following message in the print()- ‘This is the message from the fun2’."
   ]
  },
  {
   "cell_type": "code",
   "execution_count": 29,
   "id": "918a1624",
   "metadata": {},
   "outputs": [],
   "source": [
    "class Child:\n",
    "    def fun2(self):\n",
    "        print(\"This is the message from the fun2.\")"
   ]
  },
  {
   "cell_type": "markdown",
   "id": "65951e0f",
   "metadata": {},
   "source": [
    "b. After that, create another class named ‘Hybrid’ and inside the class, create a method \n",
    "named ‘fun3’ and pass the following message in the print()- ‘This is the message from \n",
    "the fun3’."
   ]
  },
  {
   "cell_type": "code",
   "execution_count": 31,
   "id": "33f93746",
   "metadata": {},
   "outputs": [],
   "source": [
    "class Hybrid:\n",
    "    def fun3(self):\n",
    "        print(\"This is the message from the fun3.\")"
   ]
  },
  {
   "cell_type": "markdown",
   "id": "4c92fff3",
   "metadata": {},
   "source": [
    "c. Now, create an object of Hybrid class and with the help of the object, call the ‘fun1’, \n",
    "‘fun2’, and ‘fun3’ methods."
   ]
  },
  {
   "cell_type": "code",
   "execution_count": 33,
   "id": "efbd6226",
   "metadata": {},
   "outputs": [
    {
     "name": "stdout",
     "output_type": "stream",
     "text": [
      "This is the message from the fun1.\n",
      "This is the message from the fun2.\n",
      "This is the message from the fun3.\n"
     ]
    }
   ],
   "source": [
    "class Parent:\n",
    "    def fun1(self):\n",
    "        print(\"This is the message from the fun1.\")\n",
    "\n",
    "class Child:\n",
    "    def fun2(self):\n",
    "        print(\"This is the message from the fun2.\")\n",
    "\n",
    "class Hybrid(Parent, Child):\n",
    "    def fun3(self):\n",
    "        print(\"This is the message from the fun3.\")\n",
    "\n",
    "# Create an instance of Hybrid\n",
    "obj = Hybrid()\n",
    "\n",
    "# Call the 'fun1', 'fun2', and 'fun3' methods\n",
    "obj.fun1()\n",
    "obj.fun2()\n",
    "obj.fun3()"
   ]
  },
  {
   "cell_type": "code",
   "execution_count": null,
   "id": "2a2d3b71",
   "metadata": {},
   "outputs": [],
   "source": []
  }
 ],
 "metadata": {
  "kernelspec": {
   "display_name": "Python 3",
   "language": "python",
   "name": "python3"
  },
  "language_info": {
   "codemirror_mode": {
    "name": "ipython",
    "version": 3
   },
   "file_extension": ".py",
   "mimetype": "text/x-python",
   "name": "python",
   "nbconvert_exporter": "python",
   "pygments_lexer": "ipython3",
   "version": "3.6.13"
  }
 },
 "nbformat": 4,
 "nbformat_minor": 5
}
