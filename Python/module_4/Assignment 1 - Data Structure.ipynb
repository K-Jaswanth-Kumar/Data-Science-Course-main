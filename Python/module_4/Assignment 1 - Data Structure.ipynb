{
 "cells": [
  {
   "cell_type": "markdown",
   "id": "1acd8675",
   "metadata": {},
   "source": [
    "1. Create a list named ‘myList’ that is having the following elements: 10,20,30,’apple’, True, \n",
    "8.10"
   ]
  },
  {
   "cell_type": "code",
   "execution_count": 1,
   "id": "bbf675d2",
   "metadata": {},
   "outputs": [],
   "source": [
    "myList = [10,20,30,'apple', True, 8.10]"
   ]
  },
  {
   "cell_type": "markdown",
   "id": "530cb022",
   "metadata": {},
   "source": [
    "a. Now in the ‘myList’, append these values: 30,40"
   ]
  },
  {
   "cell_type": "code",
   "execution_count": 2,
   "id": "b9879de3",
   "metadata": {},
   "outputs": [],
   "source": [
    "myList.append(30)\n",
    "myList.append(40)"
   ]
  },
  {
   "cell_type": "code",
   "execution_count": 3,
   "id": "66881814",
   "metadata": {},
   "outputs": [
    {
     "data": {
      "text/plain": [
       "[10, 20, 30, 'apple', True, 8.1, 30, 40]"
      ]
     },
     "execution_count": 3,
     "metadata": {},
     "output_type": "execute_result"
    }
   ],
   "source": [
    "myList"
   ]
  },
  {
   "cell_type": "markdown",
   "id": "946adfde",
   "metadata": {},
   "source": [
    "b. After that reverse the elements of the ‘myList’ and store that in ‘reversedList’"
   ]
  },
  {
   "cell_type": "code",
   "execution_count": 4,
   "id": "8b701438",
   "metadata": {},
   "outputs": [],
   "source": [
    "reversedList = myList[::-1]"
   ]
  },
  {
   "cell_type": "code",
   "execution_count": 5,
   "id": "fed31780",
   "metadata": {},
   "outputs": [
    {
     "data": {
      "text/plain": [
       "[40, 30, 8.1, True, 'apple', 30, 20, 10]"
      ]
     },
     "execution_count": 5,
     "metadata": {},
     "output_type": "execute_result"
    }
   ],
   "source": [
    "reversedList"
   ]
  },
  {
   "cell_type": "markdown",
   "id": "31099de6",
   "metadata": {},
   "source": [
    "2. Create a dictonary with key values as 1,2,3 and the values as ‘data’,’information’, and ‘text’."
   ]
  },
  {
   "cell_type": "code",
   "execution_count": 6,
   "id": "149a5836",
   "metadata": {},
   "outputs": [],
   "source": [
    "dic = {'data':1, 'information':2, 'text':3}\n"
   ]
  },
  {
   "cell_type": "markdown",
   "id": "5060ab4a",
   "metadata": {},
   "source": [
    "a. After that eliminate the ‘text’ value form the dictonary."
   ]
  },
  {
   "cell_type": "code",
   "execution_count": 9,
   "id": "03b71da8",
   "metadata": {},
   "outputs": [
    {
     "data": {
      "text/plain": [
       "3"
      ]
     },
     "execution_count": 9,
     "metadata": {},
     "output_type": "execute_result"
    }
   ],
   "source": [
    "dic.pop('text')"
   ]
  },
  {
   "cell_type": "code",
   "execution_count": 10,
   "id": "177b27d2",
   "metadata": {},
   "outputs": [
    {
     "data": {
      "text/plain": [
       "{'data': 1, 'information': 2}"
      ]
     },
     "execution_count": 10,
     "metadata": {},
     "output_type": "execute_result"
    }
   ],
   "source": [
    "dic"
   ]
  },
  {
   "cell_type": "markdown",
   "id": "11c61fd6",
   "metadata": {},
   "source": [
    "b. Add ‘features’ in the dictonary"
   ]
  },
  {
   "cell_type": "code",
   "execution_count": 11,
   "id": "6c38965a",
   "metadata": {},
   "outputs": [],
   "source": [
    "dic['features'] = 3"
   ]
  },
  {
   "cell_type": "code",
   "execution_count": 12,
   "id": "7b75fefb",
   "metadata": {},
   "outputs": [
    {
     "data": {
      "text/plain": [
       "{'data': 1, 'information': 2, 'features': 3}"
      ]
     },
     "execution_count": 12,
     "metadata": {},
     "output_type": "execute_result"
    }
   ],
   "source": [
    "dic"
   ]
  },
  {
   "cell_type": "markdown",
   "id": "54c63345",
   "metadata": {},
   "source": [
    "c. Fetch the ‘data’ element from the dictonary and display it in the output."
   ]
  },
  {
   "cell_type": "code",
   "execution_count": 13,
   "id": "1ee78638",
   "metadata": {},
   "outputs": [
    {
     "data": {
      "text/plain": [
       "1"
      ]
     },
     "execution_count": 13,
     "metadata": {},
     "output_type": "execute_result"
    }
   ],
   "source": [
    "dic['data']"
   ]
  },
  {
   "cell_type": "markdown",
   "id": "36de8f1c",
   "metadata": {},
   "source": [
    "3. Create a tuple and add these elements 1,2,3,apple,mango in ‘my_tuple"
   ]
  },
  {
   "cell_type": "code",
   "execution_count": 14,
   "id": "730bcee3",
   "metadata": {},
   "outputs": [],
   "source": [
    "my_tuple = (1,2,3,'apple','mango')"
   ]
  },
  {
   "cell_type": "markdown",
   "id": "1952524a",
   "metadata": {},
   "source": [
    "4. Create another tuple named numeric_tuple consisting of only integer values 10,20,30,40,50"
   ]
  },
  {
   "cell_type": "code",
   "execution_count": 15,
   "id": "4d5c56a1",
   "metadata": {},
   "outputs": [],
   "source": [
    "numeric_tuple = (10,20,30,40,50)"
   ]
  },
  {
   "cell_type": "markdown",
   "id": "771227fc",
   "metadata": {},
   "source": [
    "a. Find the minimum value from the numeric_tuple."
   ]
  },
  {
   "cell_type": "code",
   "execution_count": 17,
   "id": "df9c4b33",
   "metadata": {},
   "outputs": [
    {
     "data": {
      "text/plain": [
       "10"
      ]
     },
     "execution_count": 17,
     "metadata": {},
     "output_type": "execute_result"
    }
   ],
   "source": [
    "min(numeric_tuple)"
   ]
  },
  {
   "cell_type": "markdown",
   "id": "7c937fc8",
   "metadata": {},
   "source": [
    "b. Concatenate my_tuple with numeric_tuple and store the result in r1."
   ]
  },
  {
   "cell_type": "code",
   "execution_count": 18,
   "id": "de8c1b9d",
   "metadata": {},
   "outputs": [],
   "source": [
    "r1 = my_tuple+numeric_tuple"
   ]
  },
  {
   "cell_type": "code",
   "execution_count": 19,
   "id": "85662dc3",
   "metadata": {},
   "outputs": [
    {
     "data": {
      "text/plain": [
       "(1, 2, 3, 'apple', 'mango', 10, 20, 30, 40, 50)"
      ]
     },
     "execution_count": 19,
     "metadata": {},
     "output_type": "execute_result"
    }
   ],
   "source": [
    "r1"
   ]
  },
  {
   "cell_type": "markdown",
   "id": "ea3debf7",
   "metadata": {},
   "source": [
    "c. Duplicate the tuple named my_tuple 2 times and store that in ‘newdupli"
   ]
  },
  {
   "cell_type": "code",
   "execution_count": 21,
   "id": "a2ebc04d",
   "metadata": {},
   "outputs": [],
   "source": [
    "newdupli = my_tuple * 2"
   ]
  },
  {
   "cell_type": "code",
   "execution_count": 22,
   "id": "2b59a4cb",
   "metadata": {},
   "outputs": [
    {
     "data": {
      "text/plain": [
       "(1, 2, 3, 'apple', 'mango', 1, 2, 3, 'apple', 'mango')"
      ]
     },
     "execution_count": 22,
     "metadata": {},
     "output_type": "execute_result"
    }
   ],
   "source": [
    "newdupli"
   ]
  },
  {
   "cell_type": "markdown",
   "id": "e81fbfc9",
   "metadata": {},
   "source": [
    "5. Create 2 sets with name set1 and set2, where set1 contains{1,2,3,4,5} and set2 to \n",
    "contains{2,3,7,6,1}"
   ]
  },
  {
   "cell_type": "code",
   "execution_count": 23,
   "id": "c9632bea",
   "metadata": {},
   "outputs": [],
   "source": [
    "set1 = {1,2,3,4,5}\n",
    "set2 = {2,3,7,6,1}"
   ]
  },
  {
   "cell_type": "markdown",
   "id": "bfb32b22",
   "metadata": {},
   "source": [
    "a. Perform the below operation:"
   ]
  },
  {
   "cell_type": "code",
   "execution_count": 24,
   "id": "f5414542",
   "metadata": {},
   "outputs": [
    {
     "data": {
      "text/plain": [
       "{1, 2, 3, 4, 5, 6, 7}"
      ]
     },
     "execution_count": 24,
     "metadata": {},
     "output_type": "execute_result"
    }
   ],
   "source": [
    "# set1 union set2\n",
    "\n",
    "set1.union(set2)"
   ]
  },
  {
   "cell_type": "code",
   "execution_count": 25,
   "id": "ee710e78",
   "metadata": {},
   "outputs": [
    {
     "data": {
      "text/plain": [
       "{1, 2, 3}"
      ]
     },
     "execution_count": 25,
     "metadata": {},
     "output_type": "execute_result"
    }
   ],
   "source": [
    "# set1 intersection set2\n",
    "\n",
    "set1.intersection(set2)"
   ]
  },
  {
   "cell_type": "code",
   "execution_count": 26,
   "id": "3d809e59",
   "metadata": {},
   "outputs": [
    {
     "data": {
      "text/plain": [
       "{4, 5}"
      ]
     },
     "execution_count": 26,
     "metadata": {},
     "output_type": "execute_result"
    }
   ],
   "source": [
    "# set1 difference set2\n",
    "set1.difference(set2)"
   ]
  },
  {
   "cell_type": "code",
   "execution_count": null,
   "id": "92d5b7e3",
   "metadata": {},
   "outputs": [],
   "source": []
  }
 ],
 "metadata": {
  "kernelspec": {
   "display_name": "Python 3",
   "language": "python",
   "name": "python3"
  },
  "language_info": {
   "codemirror_mode": {
    "name": "ipython",
    "version": 3
   },
   "file_extension": ".py",
   "mimetype": "text/x-python",
   "name": "python",
   "nbconvert_exporter": "python",
   "pygments_lexer": "ipython3",
   "version": "3.6.13"
  }
 },
 "nbformat": 4,
 "nbformat_minor": 5
}
