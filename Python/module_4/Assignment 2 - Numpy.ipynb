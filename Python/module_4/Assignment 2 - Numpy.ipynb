{
 "cells": [
  {
   "cell_type": "markdown",
   "id": "c9d0ef7e",
   "metadata": {},
   "source": [
    "1. Create a 3x3 matrix array with values ranging from 2 to 10."
   ]
  },
  {
   "cell_type": "code",
   "execution_count": 1,
   "id": "be2d3020",
   "metadata": {},
   "outputs": [
    {
     "name": "stdout",
     "output_type": "stream",
     "text": [
      "[[ 2  3  4]\n",
      " [ 5  6  7]\n",
      " [ 8  9 10]]\n"
     ]
    }
   ],
   "source": [
    "import numpy as np\n",
    "\n",
    "matrix = np.arange(2, 11).reshape(3, 3)\n",
    "\n",
    "print(matrix)"
   ]
  },
  {
   "cell_type": "markdown",
   "id": "cabbea10",
   "metadata": {},
   "source": [
    "2. Create a numpy array having user input values and convert the integer type to the float type \n",
    "of the elements of the array. For instance:"
   ]
  },
  {
   "cell_type": "code",
   "execution_count": 3,
   "id": "0686f49b",
   "metadata": {},
   "outputs": [
    {
     "name": "stdout",
     "output_type": "stream",
     "text": [
      "Enter the values separated by spaces: 1 2 3 4 5\n",
      "Original array:\n",
      "[1 2 3 4 5]\n",
      "Array converted to float type:\n",
      "[1. 2. 3. 4. 5.]\n"
     ]
    }
   ],
   "source": [
    "import numpy as np\n",
    "\n",
    "input_values = input(\"Enter the values separated by spaces: \").split()\n",
    "array = np.array(input_values, dtype=int)\n",
    "\n",
    "float_array = array.astype(float)\n",
    "\n",
    "print(\"Original array:\")\n",
    "print(array)\n",
    "print(\"Array converted to float type:\")\n",
    "print(float_array)\n"
   ]
  },
  {
   "cell_type": "markdown",
   "id": "067578a4",
   "metadata": {},
   "source": [
    "3. Write a Numpy program to append values to the end of an array. For instance:\n",
    "Original array:\n",
    "[10, 20, 30]\n",
    "After append values to the end of the array:\n",
    "[10 20 30 40 50 60 70 80 90]"
   ]
  },
  {
   "cell_type": "code",
   "execution_count": 4,
   "id": "364720e8",
   "metadata": {},
   "outputs": [
    {
     "name": "stdout",
     "output_type": "stream",
     "text": [
      "Original array:\n",
      "[10 20 30]\n",
      "After appending values to the end of the array:\n",
      "[10 20 30 40 50 60 70 80 90]\n"
     ]
    }
   ],
   "source": [
    "import numpy as np\n",
    "\n",
    "# Create the original array\n",
    "original_array = np.array([10, 20, 30])\n",
    "\n",
    "# Values to append\n",
    "values_to_append = np.array([40, 50, 60, 70, 80, 90])\n",
    "\n",
    "# Append values to the end of the array\n",
    "appended_array = np.append(original_array, values_to_append)\n",
    "\n",
    "# Print the original and appended arrays\n",
    "print(\"Original array:\")\n",
    "print(original_array)\n",
    "print(\"After appending values to the end of the array:\")\n",
    "print(appended_array)\n"
   ]
  },
  {
   "cell_type": "markdown",
   "id": "805958e0",
   "metadata": {},
   "source": [
    "4. Create two numpy arrays and add the elements of both the arrays and store the result in \n",
    "sumArray."
   ]
  },
  {
   "cell_type": "code",
   "execution_count": 5,
   "id": "80e54037",
   "metadata": {},
   "outputs": [
    {
     "name": "stdout",
     "output_type": "stream",
     "text": [
      "Sum Array:\n",
      "[5 7 9]\n"
     ]
    }
   ],
   "source": [
    "import numpy as np\n",
    "\n",
    "array1 = np.array([1, 2, 3])\n",
    "\n",
    "array2 = np.array([4, 5, 6])\n",
    "\n",
    "sumArray = array1 + array2\n",
    "\n",
    "print(\"Sum Array:\")\n",
    "print(sumArray)\n"
   ]
  },
  {
   "cell_type": "markdown",
   "id": "539b2d48",
   "metadata": {},
   "source": [
    "5. Create a 3*3 array having values from 10-90(interval of 10) and store that in array1. Perform \n",
    "the following tasks:"
   ]
  },
  {
   "cell_type": "code",
   "execution_count": 6,
   "id": "44a73933",
   "metadata": {},
   "outputs": [
    {
     "name": "stdout",
     "output_type": "stream",
     "text": [
      "Original array:\n",
      "[[10 20 30]\n",
      " [40 50 60]\n",
      " [70 80 90]]\n"
     ]
    }
   ],
   "source": [
    "import numpy as np\n",
    "\n",
    "# Create the array with values ranging from 10 to 90 (interval of 10)\n",
    "array1 = np.arange(10, 100, 10).reshape(3, 3)\n",
    "\n",
    "# Print the original array\n",
    "print(\"Original array:\")\n",
    "print(array1)"
   ]
  },
  {
   "cell_type": "markdown",
   "id": "a6ea8747",
   "metadata": {},
   "source": [
    "a. Extract the 1st row from the array."
   ]
  },
  {
   "cell_type": "code",
   "execution_count": 8,
   "id": "726bfd17",
   "metadata": {},
   "outputs": [
    {
     "name": "stdout",
     "output_type": "stream",
     "text": [
      "First row: [10 20 30]\n"
     ]
    }
   ],
   "source": [
    "print(\"First row:\", array1[0, :])"
   ]
  },
  {
   "cell_type": "markdown",
   "id": "af39411d",
   "metadata": {},
   "source": [
    "b. Extract the last element from the array"
   ]
  },
  {
   "cell_type": "code",
   "execution_count": 9,
   "id": "99b98305",
   "metadata": {},
   "outputs": [
    {
     "name": "stdout",
     "output_type": "stream",
     "text": [
      "Element at row 3, column 3: 90\n"
     ]
    }
   ],
   "source": [
    "print(\"Element at row 3, column 3:\", array1[2, 2])"
   ]
  }
 ],
 "metadata": {
  "kernelspec": {
   "display_name": "Python 3",
   "language": "python",
   "name": "python3"
  },
  "language_info": {
   "codemirror_mode": {
    "name": "ipython",
    "version": 3
   },
   "file_extension": ".py",
   "mimetype": "text/x-python",
   "name": "python",
   "nbconvert_exporter": "python",
   "pygments_lexer": "ipython3",
   "version": "3.6.13"
  }
 },
 "nbformat": 4,
 "nbformat_minor": 5
}
