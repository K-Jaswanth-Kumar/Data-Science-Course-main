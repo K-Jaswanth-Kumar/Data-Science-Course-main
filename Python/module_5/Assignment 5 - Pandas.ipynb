{
 "cells": [
  {
   "cell_type": "markdown",
   "id": "968ebac5",
   "metadata": {},
   "source": [
    "1. Use a for loop to calculate the number of customers that are getting the tech support and \n",
    "are male senior citizen."
   ]
  },
  {
   "cell_type": "code",
   "execution_count": 1,
   "id": "6ab15810",
   "metadata": {},
   "outputs": [],
   "source": [
    "import pandas as pd\n",
    "dataframe = pd.read_csv('customer_churn-1.csv')"
   ]
  },
  {
   "cell_type": "code",
   "execution_count": 2,
   "id": "05693041",
   "metadata": {},
   "outputs": [
    {
     "name": "stdout",
     "output_type": "stream",
     "text": [
      "Number of customers with tech support and are male senior citizens: 119\n"
     ]
    }
   ],
   "source": [
    "count = 0\n",
    "\n",
    "for index, row in dataframe.iterrows():\n",
    "\n",
    "    if row['TechSupport'] == 'Yes' and row['gender'] == 'Male' and row['SeniorCitizen'] == 1:\n",
    "        count += 1\n",
    "\n",
    "print(\"Number of customers with tech support and are male senior citizens:\", count)\n"
   ]
  },
  {
   "cell_type": "code",
   "execution_count": null,
   "id": "bc8cba3e",
   "metadata": {},
   "outputs": [],
   "source": []
  }
 ],
 "metadata": {
  "kernelspec": {
   "display_name": "Python 3",
   "language": "python",
   "name": "python3"
  },
  "language_info": {
   "codemirror_mode": {
    "name": "ipython",
    "version": 3
   },
   "file_extension": ".py",
   "mimetype": "text/x-python",
   "name": "python",
   "nbconvert_exporter": "python",
   "pygments_lexer": "ipython3",
   "version": "3.6.13"
  }
 },
 "nbformat": 4,
 "nbformat_minor": 5
}
