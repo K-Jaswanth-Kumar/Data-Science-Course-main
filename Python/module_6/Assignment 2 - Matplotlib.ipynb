{
 "cells": [
  {
   "cell_type": "markdown",
   "id": "9ea7acfa",
   "metadata": {},
   "source": [
    "1. Generate a bar plot graph for the columns ‘carbs’ and ‘gear’.\\\n",
    "a. Map the ‘carbs’ onto the x-axis. \\\n",
    "b. Map the ‘gear’ onto the y-axis. \\\n",
    "c. Provide the x-axis label as Number of carburetors. \\\n",
    "d. Provide the y-axis label as Number of forward gears. \\\n",
    "e. Set the title as carbs vs gear."
   ]
  },
  {
   "cell_type": "code",
   "execution_count": 1,
   "id": "bf720080",
   "metadata": {},
   "outputs": [],
   "source": [
    "import pandas as pd\n",
    "import matplotlib.pyplot as plt"
   ]
  },
  {
   "cell_type": "code",
   "execution_count": 2,
   "id": "aea36761",
   "metadata": {},
   "outputs": [],
   "source": [
    "df = pd.read_csv('cars-1.csv')"
   ]
  },
  {
   "cell_type": "code",
   "execution_count": 6,
   "id": "57c2ec9c",
   "metadata": {},
   "outputs": [
    {
     "data": {
      "image/png": "[encoded data removed]",
      "text/plain": [
       "<Figure size 432x288 with 1 Axes>"
      ]
     },
     "metadata": {
      "needs_background": "light"
     },
     "output_type": "display_data"
    }
   ],
   "source": [
    "fig, ax = plt.subplots()\n",
    "\n",
    "ax.bar(df['carb'],df['gear'])\n",
    "\n",
    "ax.set_xlabel('Number of carburetors')\n",
    "ax.set_ylabel('Number of forward gears')\n",
    "ax.set_title('carbs vs gear.')\n",
    "\n",
    "plt.show()"
   ]
  },
  {
   "cell_type": "code",
   "execution_count": null,
   "id": "54735eb2",
   "metadata": {},
   "outputs": [],
   "source": []
  }
 ],
 "metadata": {
  "kernelspec": {
   "display_name": "Python 3",
   "language": "python",
   "name": "python3"
  },
  "language_info": {
   "codemirror_mode": {
    "name": "ipython",
    "version": 3
   },
   "file_extension": ".py",
   "mimetype": "text/x-python",
   "name": "python",
   "nbconvert_exporter": "python",
   "pygments_lexer": "ipython3",
   "version": "3.6.13"
  }
 },
 "nbformat": 4,
 "nbformat_minor": 5
}
