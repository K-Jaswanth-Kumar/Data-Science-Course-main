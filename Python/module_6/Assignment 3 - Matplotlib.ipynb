{
 "cells": [
  {
   "cell_type": "code",
   "execution_count": 1,
   "id": "a670514c",
   "metadata": {},
   "outputs": [],
   "source": [
    "import pandas as pd\n",
    "import matplotlib.pyplot as plt"
   ]
  },
  {
   "cell_type": "code",
   "execution_count": 2,
   "id": "dcf65e9d",
   "metadata": {},
   "outputs": [],
   "source": [
    " df = pd.read_csv('cars-1.csv')"
   ]
  },
  {
   "cell_type": "markdown",
   "id": "6977573d",
   "metadata": {},
   "source": [
    "1. Plot a histogram for the column ‘wt’.\\\n",
    "a. Map the ‘wt’ onto the x-axis. \\\n",
    "b. Provide the x-axis label as ‘weight of the cars’.\\\n",
    "c. Provide the y-axis label as ‘Count’\\\n",
    "d. Set the number of bins as 30. \\\n",
    "e. Set the title as ‘Histogram for the weight values’"
   ]
  },
  {
   "cell_type": "code",
   "execution_count": 4,
   "id": "b73771c9",
   "metadata": {},
   "outputs": [
    {
     "data": {
      "image/png": "[encoded data removed]",
      "text/plain": [
       "<Figure size 432x288 with 1 Axes>"
      ]
     },
     "metadata": {
      "needs_background": "light"
     },
     "output_type": "display_data"
    }
   ],
   "source": [
    "fig, ax = plt.subplots()\n",
    "\n",
    "ax.hist(df['wt'], bins = 30)\n",
    "\n",
    "ax.set_xlabel('weight of the cars')\n",
    "ax.set_ylabel('Count')\n",
    "ax.set_title('Histogram for the weight values')\n",
    "\n",
    "plt.show()"
   ]
  },
  {
   "cell_type": "code",
   "execution_count": null,
   "id": "8dca01be",
   "metadata": {},
   "outputs": [],
   "source": []
  }
 ],
 "metadata": {
  "kernelspec": {
   "display_name": "Python 3",
   "language": "python",
   "name": "python3"
  },
  "language_info": {
   "codemirror_mode": {
    "name": "ipython",
    "version": 3
   },
   "file_extension": ".py",
   "mimetype": "text/x-python",
   "name": "python",
   "nbconvert_exporter": "python",
   "pygments_lexer": "ipython3",
   "version": "3.6.13"
  }
 },
 "nbformat": 4,
 "nbformat_minor": 5
}
