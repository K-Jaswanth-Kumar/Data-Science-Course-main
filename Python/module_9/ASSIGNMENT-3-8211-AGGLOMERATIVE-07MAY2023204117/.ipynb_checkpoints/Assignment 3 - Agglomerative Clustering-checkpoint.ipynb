{
 "cells": [
  {
   "cell_type": "code",
   "execution_count": 12,
   "id": "2afd46d0",
   "metadata": {},
   "outputs": [],
   "source": [
    "from sklearn.datasets import load_iris\n",
    "from sklearn.cluster import AgglomerativeClustering\n",
    "import numpy as np\n",
    "import pandas as pd\n",
    "import matplotlib.pyplot as plt\n",
    "from scipy.cluster.hierarchy import dendrogram"
   ]
  },
  {
   "cell_type": "code",
   "execution_count": 2,
   "id": "13674298",
   "metadata": {},
   "outputs": [],
   "source": [
    "iris = load_iris()"
   ]
  },
  {
   "cell_type": "code",
   "execution_count": 3,
   "id": "f079f4d9",
   "metadata": {},
   "outputs": [],
   "source": [
    "data = iris.data"
   ]
  },
  {
   "cell_type": "code",
   "execution_count": 14,
   "id": "6f6eb8ca",
   "metadata": {},
   "outputs": [],
   "source": [
    "model = AgglomerativeClustering(n_clusters=3,compute_distances=True)"
   ]
  },
  {
   "cell_type": "code",
   "execution_count": 15,
   "id": "f8f8c368",
   "metadata": {},
   "outputs": [
    {
     "data": {
      "text/plain": [
       "AgglomerativeClustering(compute_distances=True, n_clusters=3)"
      ]
     },
     "execution_count": 15,
     "metadata": {},
     "output_type": "execute_result"
    }
   ],
   "source": [
    "model.fit(data)"
   ]
  },
  {
   "cell_type": "code",
   "execution_count": 16,
   "id": "fdfdd926",
   "metadata": {},
   "outputs": [
    {
     "name": "stdout",
     "output_type": "stream",
     "text": [
      "Predicted labels:\n",
      " [1 1 1 1 1 1 1 1 1 1 1 1 1 1 1 1 1 1 1 1 1 1 1 1 1 1 1 1 1 1 1 1 1 1 1 1 1\n",
      " 1 1 1 1 1 1 1 1 1 1 1 1 1 0 0 0 0 0 0 0 0 0 0 0 0 0 0 0 0 0 0 0 0 0 0 0 0\n",
      " 0 0 0 2 0 0 0 0 0 0 0 0 0 0 0 0 0 0 0 0 0 0 0 0 0 0 2 0 2 2 2 2 0 2 2 2 2\n",
      " 2 2 0 0 2 2 2 2 0 2 0 2 0 2 2 0 0 2 2 2 2 2 0 0 2 2 2 0 2 2 2 0 2 2 2 0 2\n",
      " 2 0]\n"
     ]
    }
   ],
   "source": [
    "labels = model.labels_\n",
    "\n",
    "print(\"Predicted labels:\\n\", labels)"
   ]
  },
  {
   "cell_type": "code",
   "execution_count": 17,
   "id": "1691b6dd",
   "metadata": {},
   "outputs": [
    {
     "data": {
      "text/plain": [
       "array([[101, 142],\n",
       "       [  7,  39],\n",
       "       [  0,  17],\n",
       "       [  9,  34],\n",
       "       [128, 132],\n",
       "       [ 10,  48],\n",
       "       [  4,  37],\n",
       "       [ 19,  21],\n",
       "       [ 29,  30],\n",
       "       [ 57,  93],\n",
       "       [ 80,  81],\n",
       "       [116, 137],\n",
       "       [  8,  38],\n",
       "       [  3,  47],\n",
       "       [ 27,  28],\n",
       "       [ 82,  92],\n",
       "       [ 95,  96],\n",
       "       [127, 138],\n",
       "       [  1,  45],\n",
       "       [ 63,  91],\n",
       "       [ 65,  75],\n",
       "       [ 40, 152],\n",
       "       [123, 126],\n",
       "       [ 49, 151],\n",
       "       [112, 139],\n",
       "       [ 94,  99],\n",
       "       [ 12, 168],\n",
       "       [ 88, 166],\n",
       "       [ 66,  84],\n",
       "       [ 23,  26],\n",
       "       [ 53,  89],\n",
       "       [ 74,  97],\n",
       "       [ 25, 153],\n",
       "       [ 46, 157],\n",
       "       [  2, 163],\n",
       "       [110, 147],\n",
       "       [120, 143],\n",
       "       [136, 148],\n",
       "       [ 78, 169],\n",
       "       [ 69, 160],\n",
       "       [ 54,  58],\n",
       "       [140, 144],\n",
       "       [141, 145],\n",
       "       [ 43, 179],\n",
       "       [ 68,  87],\n",
       "       [ 50,  52],\n",
       "       [ 51,  56],\n",
       "       [107, 130],\n",
       "       [105, 122],\n",
       "       [103, 161],\n",
       "       [164, 171],\n",
       "       [ 20,  31],\n",
       "       [ 11, 158],\n",
       "       [ 67, 165],\n",
       "       [ 70, 167],\n",
       "       [ 42, 162],\n",
       "       [113, 150],\n",
       "       [  6, 184],\n",
       "       [173, 200],\n",
       "       [ 55,  90],\n",
       "       [176, 182],\n",
       "       [ 86, 195],\n",
       "       [124, 186],\n",
       "       [ 83, 133],\n",
       "       [  5,  18],\n",
       "       [ 13, 205],\n",
       "       [175, 177],\n",
       "       [ 32,  33],\n",
       "       [125, 129],\n",
       "       [104, 154],\n",
       "       [ 73, 188],\n",
       "       [149, 204],\n",
       "       [146, 172],\n",
       "       [121, 206],\n",
       "       [ 36, 155],\n",
       "       [ 76, 190],\n",
       "       [115, 187],\n",
       "       [ 61,  71],\n",
       "       [156, 208],\n",
       "       [ 72, 213],\n",
       "       [117, 131],\n",
       "       [191, 212],\n",
       "       [ 24, 202],\n",
       "       [ 98, 159],\n",
       "       [ 16, 224],\n",
       "       [ 35, 210],\n",
       "       [ 64,  79],\n",
       "       [ 85, 196],\n",
       "       [ 77, 185],\n",
       "       [ 44, 183],\n",
       "       [111, 199],\n",
       "       [180, 189],\n",
       "       [102, 218],\n",
       "       [174, 192],\n",
       "       [181, 227],\n",
       "       [170, 225],\n",
       "       [118, 198],\n",
       "       [ 14,  15],\n",
       "       [178, 209],\n",
       "       [222, 229],\n",
       "       [201, 234],\n",
       "       [114, 223],\n",
       "       [ 60, 233],\n",
       "       [217, 247],\n",
       "       [ 59, 241],\n",
       "       [207, 232],\n",
       "       [197, 242],\n",
       "       [ 62, 203],\n",
       "       [214, 250],\n",
       "       [119, 194],\n",
       "       [100, 226],\n",
       "       [108, 219],\n",
       "       [216, 248],\n",
       "       [211, 245],\n",
       "       [240, 261],\n",
       "       [193, 239],\n",
       "       [109, 135],\n",
       "       [235, 255],\n",
       "       [238, 243],\n",
       "       [236, 254],\n",
       "       [ 22, 215],\n",
       "       [220, 244],\n",
       "       [228, 265],\n",
       "       [257, 269],\n",
       "       [134, 249],\n",
       "       [221, 237],\n",
       "       [231, 260],\n",
       "       [ 41, 270],\n",
       "       [230, 266],\n",
       "       [106, 262],\n",
       "       [253, 258],\n",
       "       [259, 274],\n",
       "       [267, 277],\n",
       "       [264, 268],\n",
       "       [271, 275],\n",
       "       [246, 278],\n",
       "       [251, 281],\n",
       "       [276, 283],\n",
       "       [256, 285],\n",
       "       [273, 279],\n",
       "       [272, 280],\n",
       "       [263, 284],\n",
       "       [252, 289],\n",
       "       [286, 291],\n",
       "       [282, 290],\n",
       "       [287, 288],\n",
       "       [292, 293],\n",
       "       [295, 296],\n",
       "       [294, 297]], dtype=int64)"
      ]
     },
     "execution_count": 17,
     "metadata": {},
     "output_type": "execute_result"
    }
   ],
   "source": [
    "linkage_matrix = model.children_\n",
    "linkage_matrix"
   ]
  },
  {
   "cell_type": "code",
   "execution_count": 18,
   "id": "98ff1eab",
   "metadata": {},
   "outputs": [],
   "source": [
    "def plot_dendrogram(model, **kwargs):\n",
    "    # Create linkage matrix and then plot the dendrogram\n",
    "\n",
    "    # create the counts of samples under each node\n",
    "    counts = np.zeros(model.children_.shape[0])\n",
    "    n_samples = len(model.labels_)\n",
    "    for i, merge in enumerate(model.children_):\n",
    "        current_count = 0\n",
    "        for child_idx in merge:\n",
    "            if child_idx < n_samples:\n",
    "                current_count += 1  # leaf node\n",
    "            else:\n",
    "                current_count += counts[child_idx - n_samples]\n",
    "        counts[i] = current_count\n",
    "\n",
    "    linkage_matrix = np.column_stack(\n",
    "        [model.children_, model.distances_, counts]\n",
    "    ).astype(float)\n",
    "\n",
    "    # Plot the corresponding dendrogram\n",
    "    dendrogram(linkage_matrix, **kwargs)"
   ]
  },
  {
   "cell_type": "code",
   "execution_count": 19,
   "id": "c80ecf75",
   "metadata": {},
   "outputs": [
    {
     "data": {
      "image/png": "[encoded data removed]",
      "text/plain": [
       "<Figure size 432x288 with 1 Axes>"
      ]
     },
     "metadata": {
      "needs_background": "light"
     },
     "output_type": "display_data"
    }
   ],
   "source": [
    "plot_dendrogram(model, truncate_mode=\"level\", p=3)"
   ]
  },
  {
   "cell_type": "code",
   "execution_count": null,
   "id": "4f97e9d2",
   "metadata": {},
   "outputs": [],
   "source": []
  }
 ],
 "metadata": {
  "kernelspec": {
   "display_name": "Python 3",
   "language": "python",
   "name": "python3"
  },
  "language_info": {
   "codemirror_mode": {
    "name": "ipython",
    "version": 3
   },
   "file_extension": ".py",
   "mimetype": "text/x-python",
   "name": "python",
   "nbconvert_exporter": "python",
   "pygments_lexer": "ipython3",
   "version": "3.6.13"
  }
 },
 "nbformat": 4,
 "nbformat_minor": 5
}
